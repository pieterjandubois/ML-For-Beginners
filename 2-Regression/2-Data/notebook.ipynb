{
 "cells": [
  {
   "cell_type": "code",
   "execution_count": 24,
   "metadata": {},
   "outputs": [
    {
     "name": "stdout",
     "output_type": "stream",
     "text": [
      "      Month               Package  Low Price  High Price  Price\n",
      "70        9  1 1/9 bushel cartons      15.00        15.0  13.50\n",
      "71        9  1 1/9 bushel cartons      18.00        18.0  16.20\n",
      "72       10  1 1/9 bushel cartons      18.00        18.0  16.20\n",
      "73       10  1 1/9 bushel cartons      17.00        17.0  15.30\n",
      "74       10  1 1/9 bushel cartons      15.00        15.0  13.50\n",
      "...     ...                   ...        ...         ...    ...\n",
      "1738      9    1/2 bushel cartons      15.00        15.0  30.00\n",
      "1739      9    1/2 bushel cartons      13.75        15.0  28.75\n",
      "1740      9    1/2 bushel cartons      10.75        15.0  25.75\n",
      "1741      9    1/2 bushel cartons      12.00        12.0  24.00\n",
      "1742      9    1/2 bushel cartons      12.00        12.0  24.00\n",
      "\n",
      "[415 rows x 5 columns]\n"
     ]
    }
   ],
   "source": [
    "import pandas as pd\n",
    "pumpkins = pd.read_csv('../2-Data/US-pumpkins.csv')\n",
    "pumpkins = pumpkins[pumpkins['Package'].str.contains('bushel', case=True, regex=True)]\n",
    "\n",
    "pumpkins.tail()\n",
    "pumpkins.isnull().sum()\n",
    "colums_to_select = [\"Package\", \"Low Price\", \"High Price\", \"Date\"]\n",
    "pumpkins=pumpkins.loc[:, colums_to_select]\n",
    "\n",
    "price=(pumpkins[\"Low Price\"]+pumpkins[\"High Price\"])/2\n",
    "month=pd.DatetimeIndex(pumpkins[\"Date\"]).month\n",
    "new_pumpkins= pd.DataFrame({\"Month\": month, \"Package\": pumpkins[\"Package\"], \"Low Price\": pumpkins[\"Low Price\"], \"High Price\": pumpkins[\"High Price\"], \"Price\": price})\n",
    "new_pumpkins.loc[new_pumpkins['Package'].str.contains('1 1/9'), 'Price'] = price/(1 + 1/9)\n",
    "new_pumpkins.loc[new_pumpkins['Package'].str.contains('1/2'), 'Price'] = price/(1/2)\n",
    "\n",
    "\n",
    "print(new_pumpkins)"
   ]
  }
 ],
 "metadata": {
  "kernelspec": {
   "display_name": "sklearn-env",
   "language": "python",
   "name": "python3"
  },
  "language_info": {
   "codemirror_mode": {
    "name": "ipython",
    "version": 3
   },
   "file_extension": ".py",
   "mimetype": "text/x-python",
   "name": "python",
   "nbconvert_exporter": "python",
   "pygments_lexer": "ipython3",
   "version": "3.10.4"
  },
  "orig_nbformat": 2
 },
 "nbformat": 4,
 "nbformat_minor": 2
}
